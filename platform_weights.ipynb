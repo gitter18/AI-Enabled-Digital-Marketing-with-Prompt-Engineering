{
 "cells": [
  {
   "cell_type": "code",
   "execution_count": null,
   "id": "36e3ce96-779f-4675-96ee-f47c487622a0",
   "metadata": {},
   "outputs": [],
   "source": [
    "import pandas as pd\n",
    "import pickle\n",
    "\n",
    "# Load the dataset\n",
    "df = pd.read_excel(r\"SET YOUR PATH HERE\")\n",
    "\n",
    "#Normalizes the numeric platform usage features to derive weights\n",
    "platform_metrics = [\"Daily_Minutes_Spent\", \"Likes_Per_Day\", \"Follows_Per_Day\", \"Posts_Per_Day\"]\n",
    "platform_usage = df[platform_metrics].sum()\n",
    "\n",
    "#We will not get proportionate weights\n",
    "normalized_weights = platform_usage / platform_usage.sum()\n",
    "\n",
    "#This maps them to campaign platforms\n",
    "weights_mapping = {\n",
    "    \"google\": normalized_weights[\"Daily_Minutes_Spent\"],\n",
    "    \"facebook\": normalized_weights[\"Likes_Per_Day\"],\n",
    "    \"instagram\": normalized_weights[\"Follows_Per_Day\"],\n",
    "    \"linkedin\": normalized_weights[\"Posts_Per_Day\"]\n",
    "}\n",
    "\n",
    "#Now Save the weights using pickle\n",
    "with open(\"platform_weights.pkl\", \"wb\") as f:\n",
    "    pickle.dump(weights_mapping, f)\n",
    "\n",
    "print(\"✅ Platform weights saved successfully:\")\n",
    "for platform, weight in weights_mapping.items():\n",
    "    print(f\"{platform}: {weight:.4f}\")\n"
   ]
  }
 ],
 "metadata": {
  "kernelspec": {
   "display_name": "Python [conda env:base] *",
   "language": "python",
   "name": "conda-base-py"
  },
  "language_info": {
   "codemirror_mode": {
    "name": "ipython",
    "version": 3
   },
   "file_extension": ".py",
   "mimetype": "text/x-python",
   "name": "python",
   "nbconvert_exporter": "python",
   "pygments_lexer": "ipython3",
   "version": "3.12.7"
  }
 },
 "nbformat": 4,
 "nbformat_minor": 5
}
